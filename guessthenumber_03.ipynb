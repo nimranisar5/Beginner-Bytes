{
  "nbformat": 4,
  "nbformat_minor": 0,
  "metadata": {
    "colab": {
      "provenance": [],
      "authorship_tag": "ABX9TyMMA/Dsq/FhNTqs8izN4ve5",
      "include_colab_link": true
    },
    "kernelspec": {
      "name": "python3",
      "display_name": "Python 3"
    },
    "language_info": {
      "name": "python"
    }
  },
  "cells": [
    {
      "cell_type": "markdown",
      "metadata": {
        "id": "view-in-github",
        "colab_type": "text"
      },
      "source": [
        "<a href=\"https://colab.research.google.com/github/nimranisar5/Beginner-Bytes/blob/main/guessthenumber_03.ipynb\" target=\"_parent\"><img src=\"https://colab.research.google.com/assets/colab-badge.svg\" alt=\"Open In Colab\"/></a>"
      ]
    },
    {
      "cell_type": "code",
      "source": [
        "import random\n",
        "\n",
        "def main():\n",
        "    print(\"Welcome to the Guess the Number Game!\")\n",
        "    print(\"I'm thinking of a number between 1 and 100.\")\n",
        "\n",
        "    # Computer randomly selects a number\n",
        "    secret_number = random.randint(1, 100)\n",
        "    attempts = 0\n",
        "    guess = None\n",
        "\n",
        "    # Loop until the user guesses the correct number\n",
        "    while guess != secret_number:\n",
        "        try:\n",
        "            guess = int(input(\"Take a guess: \"))\n",
        "            attempts += 1\n",
        "\n",
        "            if guess < secret_number:\n",
        "                print(\"Too low! Try again.\")\n",
        "            elif guess > secret_number:\n",
        "                print(\"Too high! Try again.\")\n",
        "            else:\n",
        "                print(f\"🎉 Correct! You guessed the number in {attempts} tries.\")\n",
        "        except ValueError:\n",
        "            print(\"Please enter a valid number!\")\n",
        "\n",
        "# Run the game\n",
        "if __name__ == \"__main__\":\n",
        "    main()\n"
      ],
      "metadata": {
        "id": "FWw9dbsiRI14",
        "colab": {
          "base_uri": "https://localhost:8080/"
        },
        "outputId": "4dd3b393-113a-4e0d-ff6e-544a1e32ac96"
      },
      "execution_count": null,
      "outputs": [
        {
          "output_type": "stream",
          "name": "stdout",
          "text": [
            "Welcome to the Guess the Number Game!\n",
            "I'm thinking of a number between 1 and 100.\n",
            "Take a guess: 70\n",
            "Too high! Try again.\n",
            "Take a guess: 40\n",
            "Too low! Try again.\n",
            "Take a guess: 22\n",
            "Too low! Try again.\n",
            "Take a guess: 100\n",
            "Too high! Try again.\n",
            "Take a guess: 56\n",
            "Too low! Try again.\n",
            "Take a guess: 78\n",
            "Too high! Try again.\n",
            "Take a guess: 99\n",
            "Too high! Try again.\n",
            "Take a guess: 87\n",
            "Too high! Try again.\n",
            "Take a guess: 77\n",
            "Too high! Try again.\n",
            "Take a guess: 87\n",
            "Too high! Try again.\n",
            "Take a guess: 39\n",
            "Too low! Try again.\n",
            "Take a guess: 9\n",
            "Too low! Try again.\n"
          ]
        }
      ]
    }
  ]
}