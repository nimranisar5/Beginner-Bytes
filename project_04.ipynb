{
  "nbformat": 4,
  "nbformat_minor": 0,
  "metadata": {
    "colab": {
      "provenance": [],
      "authorship_tag": "ABX9TyPAOkhCWc4UwwfOABhkap6x",
      "include_colab_link": true
    },
    "kernelspec": {
      "name": "python3",
      "display_name": "Python 3"
    },
    "language_info": {
      "name": "python"
    }
  },
  "cells": [
    {
      "cell_type": "markdown",
      "metadata": {
        "id": "view-in-github",
        "colab_type": "text"
      },
      "source": [
        "<a href=\"https://colab.research.google.com/github/nimranisar5/Beginner-Bytes/blob/main/project_04.ipynb\" target=\"_parent\"><img src=\"https://colab.research.google.com/assets/colab-badge.svg\" alt=\"Open In Colab\"/></a>"
      ]
    },
    {
      "cell_type": "code",
      "source": [
        "import random\n",
        "\n",
        "def play():\n",
        "    user = input(\"Choose 'rock', 'paper', or 'scissors': \").lower()\n",
        "    computer = random.choice(['rock', 'paper', 'scissors'])\n",
        "\n",
        "    if user not in ['rock', 'paper', 'scissors']:\n",
        "        return \"Invalid choice. Try again!\"\n",
        "\n",
        "    print(f\"\\nYou chose {user}.\")\n",
        "    print(f\"Computer chose {computer}.\\n\")\n",
        "\n",
        "    if user == computer:\n",
        "        return \"It's a tie!\"\n",
        "\n",
        "    # Winning conditions\n",
        "    if is_win(user, computer):\n",
        "        return \"You win!\"\n",
        "\n",
        "    return \"You lose!\"\n",
        "\n",
        "def is_win(player, opponent):\n",
        "    # return true if player beats opponent\n",
        "    return (player == 'rock' and opponent == 'scissors') or \\\n",
        "           (player == 'scissors' and opponent == 'paper') or \\\n",
        "           (player == 'paper' and opponent == 'rock')\n",
        "\n",
        "\n"
      ],
      "metadata": {
        "id": "Js8oxfrFSy7q"
      },
      "execution_count": null,
      "outputs": []
    }
  ]
}