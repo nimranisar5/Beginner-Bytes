{
  "cells": [
    {
      "cell_type": "markdown",
      "metadata": {
        "id": "view-in-github",
        "colab_type": "text"
      },
      "source": [
        "<a href=\"https://colab.research.google.com/github/nimranisar5/Beginner-Bytes/blob/main/project_07.ipynb\" target=\"_parent\"><img src=\"https://colab.research.google.com/assets/colab-badge.svg\" alt=\"Open In Colab\"/></a>"
      ]
    },
    {
      "cell_type": "code",
      "source": [
        "import random\n",
        "print ('welcome to your password generator')\n",
        "chars ='abcdefghijklmnopqrstuvwxyzABCDEFGHIJKLMNOPQRSTUVWXYZ!@#$%^&*()1234567890'\n",
        "number= input ('amount ofpassword to gener:')\n",
        "number = int (number)\n",
        "length = input ('Inout your password length:')\n",
        "length = int (length)\n",
        "print ('\\n')\n",
        "for password in range (number):\n",
        "    passwords = ''\n",
        "    for c in range (length):\n",
        "        passwords += random.choice (chars)\n",
        "    print (passwords)\n",
        "\n"
      ],
      "metadata": {
        "colab": {
          "base_uri": "https://localhost:8080/"
        },
        "id": "HE9ZBJ22OXyS",
        "outputId": "e6258905-410c-4207-d948-c4626d82a665"
      },
      "execution_count": null,
      "outputs": [
        {
          "output_type": "stream",
          "name": "stdout",
          "text": [
            "welcome to your password generator\n",
            "amount ofpassword to gener:9\n",
            "Inout your password length:8\n",
            "\n",
            "\n",
            "o#Z9p10l\n",
            "z#zyN)p7\n",
            "h$()VqXm\n",
            "MKHH8(9B\n",
            "1nZsdS1I\n",
            "fHh8zgz(\n",
            "AKVm^FGN\n",
            "Ja3jMnCY\n",
            "(jCjy6cf\n"
          ]
        }
      ]
    },
    {
      "cell_type": "code",
      "source": [
        "import random\n",
        "print ('welcome to your password generator')\n",
        "chars ='abcdefghijklmnopqrstuvwxyzABCDEFGHIJKLMNOPQRSTUVWXYZ!@#$%^&*()1234567890'\n",
        "number= input ('amount ofpassword to gener:')\n",
        "number = int (number)\n",
        "length = input ('Inout your password length:')\n",
        "length = int (length)\n",
        "print ('/nhere are your passwords:')\n",
        "for pwd in range (number):\n",
        "  passwords = ''\n",
        "  for c in range (length):\n",
        "    passwords += random.choice (chars)\n",
        "  print (passwords)\n",
        "\n"
      ],
      "metadata": {
        "colab": {
          "base_uri": "https://localhost:8080/"
        },
        "id": "HtYCJ7UVQaJ9",
        "outputId": "399ea47f-d993-4f97-b33e-918d352960e3"
      },
      "execution_count": null,
      "outputs": [
        {
          "output_type": "stream",
          "name": "stdout",
          "text": [
            "welcome to your password generator\n",
            "amount ofpassword to gener:2\n",
            "Inout your password length:8\n",
            "/nhere are your passwords:\n",
            "(&uo&^@t\n",
            "X^WKUM$V\n"
          ]
        }
      ]
    }
  ],
  "metadata": {
    "colab": {
      "provenance": [],
      "authorship_tag": "ABX9TyNwHljSKx3cS334GLeEyE23",
      "include_colab_link": true
    },
    "kernelspec": {
      "display_name": "Python 3",
      "name": "python3"
    },
    "language_info": {
      "name": "python"
    }
  },
  "nbformat": 4,
  "nbformat_minor": 0
}