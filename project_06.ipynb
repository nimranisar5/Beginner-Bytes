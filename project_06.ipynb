{
  "nbformat": 4,
  "nbformat_minor": 0,
  "metadata": {
    "colab": {
      "provenance": [],
      "authorship_tag": "ABX9TyOdklhB82LbRSD9I1VQ6bFH",
      "include_colab_link": true
    },
    "kernelspec": {
      "name": "python3",
      "display_name": "Python 3"
    },
    "language_info": {
      "name": "python"
    }
  },
  "cells": [
    {
      "cell_type": "markdown",
      "metadata": {
        "id": "view-in-github",
        "colab_type": "text"
      },
      "source": [
        "<a href=\"https://colab.research.google.com/github/nimranisar5/Beginner-Bytes/blob/main/project_06.ipynb\" target=\"_parent\"><img src=\"https://colab.research.google.com/assets/colab-badge.svg\" alt=\"Open In Colab\"/></a>"
      ]
    },
    {
      "cell_type": "code",
      "source": [
        "from os import times_result\n",
        "import time\n",
        "def countdown (t):\n",
        "  while t :\n",
        "    mins,secs = divmod (t,60)\n",
        "    timer = '{:02d}:{02d}'. format(mins,secs)\n",
        "    print(timer, end = \"\\r\")\n",
        "    time.sleep(1)\n",
        "    t -= 1\n",
        "  print ('timer completed')\n",
        "  t= input ('enter the time in seconds:')\n",
        "  countdown(int(t))"
      ],
      "metadata": {
        "id": "6PD52KO6pJsH"
      },
      "execution_count": 1,
      "outputs": []
    }
  ]
}