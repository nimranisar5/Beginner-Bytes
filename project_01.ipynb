{
  "nbformat": 4,
  "nbformat_minor": 0,
  "metadata": {
    "colab": {
      "provenance": [],
      "authorship_tag": "ABX9TyNUMgXAocyI4NCVStm0lcnU",
      "include_colab_link": true
    },
    "kernelspec": {
      "name": "python3",
      "display_name": "Python 3"
    },
    "language_info": {
      "name": "python"
    }
  },
  "cells": [
    {
      "cell_type": "markdown",
      "metadata": {
        "id": "view-in-github",
        "colab_type": "text"
      },
      "source": [
        "<a href=\"https://colab.research.google.com/github/nimranisar5/Beginner-Bytes/blob/main/project_01.ipynb\" target=\"_parent\"><img src=\"https://colab.research.google.com/assets/colab-badge.svg\" alt=\"Open In Colab\"/></a>"
      ]
    },
    {
      "cell_type": "markdown",
      "source": [
        "madlibs"
      ],
      "metadata": {
        "id": "vCadBjSu5rpe"
      }
    },
    {
      "cell_type": "code",
      "source": [
        "# Madlibs Game\n",
        "\n",
        "# Collecting user input\n",
        "print(\"Welcome to Madlibs!\")\n",
        "adjective = input(\"Enter an adjective: \")\n",
        "noun1 = input(\"Enter a noun (person, place, or thing): \")\n",
        "verb = input(\"Enter a verb (action word): \")\n",
        "noun2 = input(\"Enter another noun: \")\n",
        "place = input(\"Enter a place: \")\n",
        "\n",
        "# Creating the story with user input\n",
        "story = f\"Once upon a time, there was a {adjective} {noun1} who loved to {verb} in the {place}. One day, it found a magical {noun2} that changed its life forever!\"\n",
        "\n",
        "# Displaying the completed Madlibs story\n",
        "print(\"\\nHere's your Madlibs story:\")\n",
        "print(story)"
      ],
      "metadata": {
        "colab": {
          "base_uri": "https://localhost:8080/"
        },
        "id": "f0hRfuSs7W74",
        "outputId": "ea83674b-96d8-4a0b-b3af-eef6b819401e"
      },
      "execution_count": null,
      "outputs": [
        {
          "output_type": "stream",
          "name": "stdout",
          "text": [
            "Welcome to Madlibs!\n",
            "Enter an adjective: funny\n",
            "Enter a noun (person, place, or thing): dog\n",
            "Enter a verb (action word): jump\n",
            "Enter another noun: ball\n",
            "Enter a place: garden\n",
            "\n",
            "Here's your Madlibs story:\n",
            "Once upon a time, there was a funny dog who loved to jump in the garden. One day, it found a magical ball that changed its life forever!\n"
          ]
        }
      ]
    }
  ]
}