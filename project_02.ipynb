{
  "nbformat": 4,
  "nbformat_minor": 0,
  "metadata": {
    "colab": {
      "provenance": [],
      "authorship_tag": "ABX9TyPynow8Kkrn4NGYW3gZpmkE",
      "include_colab_link": true
    },
    "kernelspec": {
      "name": "python3",
      "display_name": "Python 3"
    },
    "language_info": {
      "name": "python"
    }
  },
  "cells": [
    {
      "cell_type": "markdown",
      "metadata": {
        "id": "view-in-github",
        "colab_type": "text"
      },
      "source": [
        "<a href=\"https://colab.research.google.com/github/nimranisar5/Beginner-Bytes/blob/main/project_02.ipynb\" target=\"_parent\"><img src=\"https://colab.research.google.com/assets/colab-badge.svg\" alt=\"Open In Colab\"/></a>"
      ]
    },
    {
      "cell_type": "code",
      "source": [
        "import random\n",
        "\n",
        "def guess_the_number():\n",
        "    print(\"Welcome to the Guess the Number Game!\")\n",
        "    top_of_range = input(\"Enter the maximum number: \")\n",
        "\n",
        "    if top_of_range.isdigit():\n",
        "        top_of_range = int(top_of_range)\n",
        "        if top_of_range <= 0:\n",
        "            print(\"Please enter a number greater than 0.\")\n",
        "            return\n",
        "    else:\n",
        "        print(\"Please enter a valid number next time.\")\n",
        "        return\n",
        "\n",
        "    random_number = random.randint(1, top_of_range)\n",
        "    guesses = 0\n",
        "\n",
        "    while True:\n",
        "        user_guess = input(\"Make a guess: \")\n",
        "        if user_guess.isdigit():\n",
        "            user_guess = int(user_guess)\n",
        "        else:\n",
        "            print(\"Please enter a valid number.\")\n",
        "            continue\n",
        "\n",
        "        guesses += 1\n",
        "        if user_guess == random_number:\n",
        "            print(f\"Congratulations! You guessed the number in {guesses} tries.\")\n",
        "            break\n",
        "        elif user_guess > random_number:\n",
        "            print(\"Too high. Try again.\")\n",
        "        else:\n",
        "            print(\"Too low. Try again.\")\n",
        "\n",
        "guess_the_number()\n"
      ],
      "metadata": {
        "colab": {
          "base_uri": "https://localhost:8080/"
        },
        "id": "cSFOFG8LQwii",
        "outputId": "0b80b977-d40e-4963-942d-40b34b284241"
      },
      "execution_count": null,
      "outputs": [
        {
          "output_type": "stream",
          "name": "stdout",
          "text": [
            "Welcome to the Guess the Number Game!\n",
            "Enter the maximum number: 67\n",
            "Make a guess: 88\n",
            "Too high. Try again.\n",
            "Make a guess: 44\n",
            "Too high. Try again.\n",
            "Make a guess: 54\n",
            "Too high. Try again.\n"
          ]
        }
      ]
    }
  ]
}