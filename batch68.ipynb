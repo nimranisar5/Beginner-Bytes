{
 "cells": [
  {
   "cell_type": "code",
   "execution_count": 1,
   "metadata": {},
   "outputs": [
    {
     "name": "stdout",
     "output_type": "stream",
     "text": [
      "<class 'str'>  text_double   =  Hello, Python!\n",
      "<class 'str'>  text_single   =  Hello, Python!\n",
      "<class 'str'>  text_multi    =  Hello, Python!\n",
      "<class 'str'>  text_multi_1  =  Hello, Python!\n"
     ]
    }
   ],
   "source": [
    "text_double: str  = \"Hello, Python!\" # Strings with Double Quotes (\")\n",
    "text_single: str  = 'Hello, Python!' # Strings with Single Quotes (')\n",
    "text_multi: str   = '''Hello, Python!''' # Multi-Line Strings with Triple Quotes (''' or \"\"\")\n",
    "text_multi_1: str = \"\"\"Hello, Python!\"\"\" # Multi-Line Strings with Triple Quotes (''' or \"\"\")\n",
    "\n",
    "print(type(text_double), \" text_double   = \", text_double)    # <class 'str'>\n",
    "print(type(text_single), \" text_single   = \", text_single)    # <class 'str'>\n",
    "print(type(text_multi), \" text_multi    = \", text_multi)      # <class 'str'>\n",
    "print(type(text_multi_1), \" text_multi_1  = \", text_multi_1)  # <class 'str'>"
   ]
  }
 ],
 "metadata": {
  "kernelspec": {
   "display_name": "Python 3",
   "language": "python",
   "name": "python3"
  },
  "language_info": {
   "codemirror_mode": {
    "name": "ipython",
    "version": 3
   },
   "file_extension": ".py",
   "mimetype": "text/x-python",
   "name": "python",
   "nbconvert_exporter": "python",
   "pygments_lexer": "ipython3",
   "version": "3.12.8"
  }
 },
 "nbformat": 4,
 "nbformat_minor": 2
}
